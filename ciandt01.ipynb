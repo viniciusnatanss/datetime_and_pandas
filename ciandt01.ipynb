{
  "nbformat": 4,
  "nbformat_minor": 0,
  "metadata": {
    "colab": {
      "name": "ciandt01.ipynb",
      "provenance": [],
      "authorship_tag": "ABX9TyOaDNJmgrrLUo+3hPjqILBF",
      "include_colab_link": true
    },
    "kernelspec": {
      "name": "python3",
      "display_name": "Python 3"
    }
  },
  "cells": [
    {
      "cell_type": "markdown",
      "metadata": {
        "id": "view-in-github",
        "colab_type": "text"
      },
      "source": [
        "<a href=\"https://colab.research.google.com/github/viniciusnatanss/datetime_and_pandas/blob/master/ciandt01.ipynb\" target=\"_parent\"><img src=\"https://colab.research.google.com/assets/colab-badge.svg\" alt=\"Open In Colab\"/></a>"
      ]
    },
    {
      "cell_type": "code",
      "metadata": {
        "id": "Rly_HXfkamoR",
        "colab_type": "code",
        "colab": {}
      },
      "source": [
        "# install jdk\n",
        "!apt-get install openjdk-8-jdk-headless -qq > /dev/null"
      ],
      "execution_count": 0,
      "outputs": []
    },
    {
      "cell_type": "code",
      "metadata": {
        "id": "jmE9LG3R6j2G",
        "colab_type": "code",
        "colab": {}
      },
      "source": [
        "# downloading spark/hadoop\n",
        "!wget -q https://archive.apache.org/dist/spark/spark-2.3.4/spark-2.3.4-bin-hadoop2.6.tgz"
      ],
      "execution_count": 0,
      "outputs": []
    },
    {
      "cell_type": "code",
      "metadata": {
        "id": "L97CsK8f6sKL",
        "colab_type": "code",
        "colab": {
          "base_uri": "https://localhost:8080/",
          "height": 34
        },
        "outputId": "6dc23dd2-2ef7-4907-e4f2-60e793fdeed9"
      },
      "source": [
        "!ls"
      ],
      "execution_count": 3,
      "outputs": [
        {
          "output_type": "stream",
          "text": [
            "sample_data  spark-2.3.4-bin-hadoop2.6.tgz\n"
          ],
          "name": "stdout"
        }
      ]
    },
    {
      "cell_type": "code",
      "metadata": {
        "id": "oJgz_03c6y7h",
        "colab_type": "code",
        "colab": {}
      },
      "source": [
        "# unzip file\n",
        "!tar xf spark-2.3.4-bin-hadoop2.6.tgz"
      ],
      "execution_count": 0,
      "outputs": []
    },
    {
      "cell_type": "code",
      "metadata": {
        "id": "mWPnrIag62wp",
        "colab_type": "code",
        "colab": {}
      },
      "source": [
        "# install library\n",
        "!pip install -q findspark"
      ],
      "execution_count": 0,
      "outputs": []
    },
    {
      "cell_type": "code",
      "metadata": {
        "id": "Rdj-3XqW67LB",
        "colab_type": "code",
        "colab": {}
      },
      "source": [
        "# load os and setup environment parameters\n",
        "import os\n",
        "os.environ[\"JAVA_HOME\"] = \"/usr/lib/jvm/java-8-openjdk-amd64\"\n",
        "os.environ[\"SPARK_HOME\"] = \"/content/spark-2.3.4-bin-hadoop2.6\""
      ],
      "execution_count": 0,
      "outputs": []
    },
    {
      "cell_type": "code",
      "metadata": {
        "id": "G64EktaC6-nC",
        "colab_type": "code",
        "colab": {}
      },
      "source": [
        "# load library and create a spark cluster\n",
        "import findspark\n",
        "findspark.init()\n",
        "from pyspark.sql import SparkSession\n",
        "spark = SparkSession.builder.master(\"local[*]\").getOrCreate()"
      ],
      "execution_count": 0,
      "outputs": []
    },
    {
      "cell_type": "code",
      "metadata": {
        "id": "udNMJzQh7DG7",
        "colab_type": "code",
        "colab": {
          "base_uri": "https://localhost:8080/",
          "height": 204
        },
        "outputId": "f4d551b0-d8d7-4171-eb31-9c85b9121754"
      },
      "source": [
        "# loading our database\n",
        "!wget http://files.grouplens.org/datasets/movielens/ml-latest-small.zip"
      ],
      "execution_count": 8,
      "outputs": [
        {
          "output_type": "stream",
          "text": [
            "--2020-04-30 21:09:58--  http://files.grouplens.org/datasets/movielens/ml-latest-small.zip\n",
            "Resolving files.grouplens.org (files.grouplens.org)... 128.101.65.152\n",
            "Connecting to files.grouplens.org (files.grouplens.org)|128.101.65.152|:80... connected.\n",
            "HTTP request sent, awaiting response... 200 OK\n",
            "Length: 978202 (955K) [application/zip]\n",
            "Saving to: ‘ml-latest-small.zip’\n",
            "\n",
            "\rml-latest-small.zip   0%[                    ]       0  --.-KB/s               \rml-latest-small.zip 100%[===================>] 955.28K  --.-KB/s    in 0.1s    \n",
            "\n",
            "2020-04-30 21:09:59 (7.67 MB/s) - ‘ml-latest-small.zip’ saved [978202/978202]\n",
            "\n"
          ],
          "name": "stdout"
        }
      ]
    },
    {
      "cell_type": "code",
      "metadata": {
        "id": "mOeGyOro7MqD",
        "colab_type": "code",
        "colab": {
          "base_uri": "https://localhost:8080/",
          "height": 51
        },
        "outputId": "21f5bb7f-cd1d-4eda-c03d-1503fee0c082"
      },
      "source": [
        "!ls"
      ],
      "execution_count": 9,
      "outputs": [
        {
          "output_type": "stream",
          "text": [
            "ml-latest-small.zip  spark-2.3.4-bin-hadoop2.6\n",
            "sample_data\t     spark-2.3.4-bin-hadoop2.6.tgz\n"
          ],
          "name": "stdout"
        }
      ]
    },
    {
      "cell_type": "code",
      "metadata": {
        "id": "Q3CjL5D_7tZu",
        "colab_type": "code",
        "colab": {
          "base_uri": "https://localhost:8080/",
          "height": 136
        },
        "outputId": "06fd862b-b545-4f62-f666-d9917a183843"
      },
      "source": [
        "# unzip file\n",
        "!unzip ml-latest-small.zip"
      ],
      "execution_count": 10,
      "outputs": [
        {
          "output_type": "stream",
          "text": [
            "Archive:  ml-latest-small.zip\n",
            "   creating: ml-latest-small/\n",
            "  inflating: ml-latest-small/links.csv  \n",
            "  inflating: ml-latest-small/tags.csv  \n",
            "  inflating: ml-latest-small/ratings.csv  \n",
            "  inflating: ml-latest-small/README.txt  \n",
            "  inflating: ml-latest-small/movies.csv  \n"
          ],
          "name": "stdout"
        }
      ]
    },
    {
      "cell_type": "code",
      "metadata": {
        "id": "Q3ymH4vK70oW",
        "colab_type": "code",
        "colab": {}
      },
      "source": [
        "# import library\n",
        "import pandas as pd"
      ],
      "execution_count": 0,
      "outputs": []
    },
    {
      "cell_type": "code",
      "metadata": {
        "id": "r5c4zLGe71yn",
        "colab_type": "code",
        "colab": {
          "base_uri": "https://localhost:8080/",
          "height": 34
        },
        "outputId": "2398d5ac-496f-4c5e-dd26-62700ab089df"
      },
      "source": [
        "!ls ml-latest-small"
      ],
      "execution_count": 12,
      "outputs": [
        {
          "output_type": "stream",
          "text": [
            "links.csv  movies.csv  ratings.csv  README.txt\ttags.csv\n"
          ],
          "name": "stdout"
        }
      ]
    },
    {
      "cell_type": "code",
      "metadata": {
        "id": "vSh4Ivju76t5",
        "colab_type": "code",
        "colab": {}
      },
      "source": [
        "# loading dataset from .csv file\n",
        "ratings_df = pd.read_csv('ml-latest-small/ratings.csv')"
      ],
      "execution_count": 0,
      "outputs": []
    },
    {
      "cell_type": "code",
      "metadata": {
        "id": "HTiWDCsh785P",
        "colab_type": "code",
        "colab": {
          "base_uri": "https://localhost:8080/",
          "height": 34
        },
        "outputId": "68c13381-991a-4562-d018-9a2c460eaf0e"
      },
      "source": [
        "# sizing of sample\n",
        "len(ratings_df)"
      ],
      "execution_count": 14,
      "outputs": [
        {
          "output_type": "execute_result",
          "data": {
            "text/plain": [
              "100836"
            ]
          },
          "metadata": {
            "tags": []
          },
          "execution_count": 14
        }
      ]
    },
    {
      "cell_type": "code",
      "metadata": {
        "id": "nQxlP-Sh7_cp",
        "colab_type": "code",
        "colab": {
          "base_uri": "https://localhost:8080/",
          "height": 669
        },
        "outputId": "6173a305-63fc-4cac-983c-df262b52e709"
      },
      "source": [
        "ratings_df.head(20)"
      ],
      "execution_count": 15,
      "outputs": [
        {
          "output_type": "execute_result",
          "data": {
            "text/html": [
              "<div>\n",
              "<style scoped>\n",
              "    .dataframe tbody tr th:only-of-type {\n",
              "        vertical-align: middle;\n",
              "    }\n",
              "\n",
              "    .dataframe tbody tr th {\n",
              "        vertical-align: top;\n",
              "    }\n",
              "\n",
              "    .dataframe thead th {\n",
              "        text-align: right;\n",
              "    }\n",
              "</style>\n",
              "<table border=\"1\" class=\"dataframe\">\n",
              "  <thead>\n",
              "    <tr style=\"text-align: right;\">\n",
              "      <th></th>\n",
              "      <th>userId</th>\n",
              "      <th>movieId</th>\n",
              "      <th>rating</th>\n",
              "      <th>timestamp</th>\n",
              "    </tr>\n",
              "  </thead>\n",
              "  <tbody>\n",
              "    <tr>\n",
              "      <th>0</th>\n",
              "      <td>1</td>\n",
              "      <td>1</td>\n",
              "      <td>4.0</td>\n",
              "      <td>964982703</td>\n",
              "    </tr>\n",
              "    <tr>\n",
              "      <th>1</th>\n",
              "      <td>1</td>\n",
              "      <td>3</td>\n",
              "      <td>4.0</td>\n",
              "      <td>964981247</td>\n",
              "    </tr>\n",
              "    <tr>\n",
              "      <th>2</th>\n",
              "      <td>1</td>\n",
              "      <td>6</td>\n",
              "      <td>4.0</td>\n",
              "      <td>964982224</td>\n",
              "    </tr>\n",
              "    <tr>\n",
              "      <th>3</th>\n",
              "      <td>1</td>\n",
              "      <td>47</td>\n",
              "      <td>5.0</td>\n",
              "      <td>964983815</td>\n",
              "    </tr>\n",
              "    <tr>\n",
              "      <th>4</th>\n",
              "      <td>1</td>\n",
              "      <td>50</td>\n",
              "      <td>5.0</td>\n",
              "      <td>964982931</td>\n",
              "    </tr>\n",
              "    <tr>\n",
              "      <th>5</th>\n",
              "      <td>1</td>\n",
              "      <td>70</td>\n",
              "      <td>3.0</td>\n",
              "      <td>964982400</td>\n",
              "    </tr>\n",
              "    <tr>\n",
              "      <th>6</th>\n",
              "      <td>1</td>\n",
              "      <td>101</td>\n",
              "      <td>5.0</td>\n",
              "      <td>964980868</td>\n",
              "    </tr>\n",
              "    <tr>\n",
              "      <th>7</th>\n",
              "      <td>1</td>\n",
              "      <td>110</td>\n",
              "      <td>4.0</td>\n",
              "      <td>964982176</td>\n",
              "    </tr>\n",
              "    <tr>\n",
              "      <th>8</th>\n",
              "      <td>1</td>\n",
              "      <td>151</td>\n",
              "      <td>5.0</td>\n",
              "      <td>964984041</td>\n",
              "    </tr>\n",
              "    <tr>\n",
              "      <th>9</th>\n",
              "      <td>1</td>\n",
              "      <td>157</td>\n",
              "      <td>5.0</td>\n",
              "      <td>964984100</td>\n",
              "    </tr>\n",
              "    <tr>\n",
              "      <th>10</th>\n",
              "      <td>1</td>\n",
              "      <td>163</td>\n",
              "      <td>5.0</td>\n",
              "      <td>964983650</td>\n",
              "    </tr>\n",
              "    <tr>\n",
              "      <th>11</th>\n",
              "      <td>1</td>\n",
              "      <td>216</td>\n",
              "      <td>5.0</td>\n",
              "      <td>964981208</td>\n",
              "    </tr>\n",
              "    <tr>\n",
              "      <th>12</th>\n",
              "      <td>1</td>\n",
              "      <td>223</td>\n",
              "      <td>3.0</td>\n",
              "      <td>964980985</td>\n",
              "    </tr>\n",
              "    <tr>\n",
              "      <th>13</th>\n",
              "      <td>1</td>\n",
              "      <td>231</td>\n",
              "      <td>5.0</td>\n",
              "      <td>964981179</td>\n",
              "    </tr>\n",
              "    <tr>\n",
              "      <th>14</th>\n",
              "      <td>1</td>\n",
              "      <td>235</td>\n",
              "      <td>4.0</td>\n",
              "      <td>964980908</td>\n",
              "    </tr>\n",
              "    <tr>\n",
              "      <th>15</th>\n",
              "      <td>1</td>\n",
              "      <td>260</td>\n",
              "      <td>5.0</td>\n",
              "      <td>964981680</td>\n",
              "    </tr>\n",
              "    <tr>\n",
              "      <th>16</th>\n",
              "      <td>1</td>\n",
              "      <td>296</td>\n",
              "      <td>3.0</td>\n",
              "      <td>964982967</td>\n",
              "    </tr>\n",
              "    <tr>\n",
              "      <th>17</th>\n",
              "      <td>1</td>\n",
              "      <td>316</td>\n",
              "      <td>3.0</td>\n",
              "      <td>964982310</td>\n",
              "    </tr>\n",
              "    <tr>\n",
              "      <th>18</th>\n",
              "      <td>1</td>\n",
              "      <td>333</td>\n",
              "      <td>5.0</td>\n",
              "      <td>964981179</td>\n",
              "    </tr>\n",
              "    <tr>\n",
              "      <th>19</th>\n",
              "      <td>1</td>\n",
              "      <td>349</td>\n",
              "      <td>4.0</td>\n",
              "      <td>964982563</td>\n",
              "    </tr>\n",
              "  </tbody>\n",
              "</table>\n",
              "</div>"
            ],
            "text/plain": [
              "    userId  movieId  rating  timestamp\n",
              "0        1        1     4.0  964982703\n",
              "1        1        3     4.0  964981247\n",
              "2        1        6     4.0  964982224\n",
              "3        1       47     5.0  964983815\n",
              "4        1       50     5.0  964982931\n",
              "5        1       70     3.0  964982400\n",
              "6        1      101     5.0  964980868\n",
              "7        1      110     4.0  964982176\n",
              "8        1      151     5.0  964984041\n",
              "9        1      157     5.0  964984100\n",
              "10       1      163     5.0  964983650\n",
              "11       1      216     5.0  964981208\n",
              "12       1      223     3.0  964980985\n",
              "13       1      231     5.0  964981179\n",
              "14       1      235     4.0  964980908\n",
              "15       1      260     5.0  964981680\n",
              "16       1      296     3.0  964982967\n",
              "17       1      316     3.0  964982310\n",
              "18       1      333     5.0  964981179\n",
              "19       1      349     4.0  964982563"
            ]
          },
          "metadata": {
            "tags": []
          },
          "execution_count": 15
        }
      ]
    },
    {
      "cell_type": "code",
      "metadata": {
        "id": "c0PdbPs88Ecn",
        "colab_type": "code",
        "colab": {
          "base_uri": "https://localhost:8080/",
          "height": 419
        },
        "outputId": "b42fba03-9c52-4f14-db38-d4ce5a10075d"
      },
      "source": [
        "# view content of file\n",
        "pd.read_csv('ml-latest-small/movies.csv')"
      ],
      "execution_count": 16,
      "outputs": [
        {
          "output_type": "execute_result",
          "data": {
            "text/html": [
              "<div>\n",
              "<style scoped>\n",
              "    .dataframe tbody tr th:only-of-type {\n",
              "        vertical-align: middle;\n",
              "    }\n",
              "\n",
              "    .dataframe tbody tr th {\n",
              "        vertical-align: top;\n",
              "    }\n",
              "\n",
              "    .dataframe thead th {\n",
              "        text-align: right;\n",
              "    }\n",
              "</style>\n",
              "<table border=\"1\" class=\"dataframe\">\n",
              "  <thead>\n",
              "    <tr style=\"text-align: right;\">\n",
              "      <th></th>\n",
              "      <th>movieId</th>\n",
              "      <th>title</th>\n",
              "      <th>genres</th>\n",
              "    </tr>\n",
              "  </thead>\n",
              "  <tbody>\n",
              "    <tr>\n",
              "      <th>0</th>\n",
              "      <td>1</td>\n",
              "      <td>Toy Story (1995)</td>\n",
              "      <td>Adventure|Animation|Children|Comedy|Fantasy</td>\n",
              "    </tr>\n",
              "    <tr>\n",
              "      <th>1</th>\n",
              "      <td>2</td>\n",
              "      <td>Jumanji (1995)</td>\n",
              "      <td>Adventure|Children|Fantasy</td>\n",
              "    </tr>\n",
              "    <tr>\n",
              "      <th>2</th>\n",
              "      <td>3</td>\n",
              "      <td>Grumpier Old Men (1995)</td>\n",
              "      <td>Comedy|Romance</td>\n",
              "    </tr>\n",
              "    <tr>\n",
              "      <th>3</th>\n",
              "      <td>4</td>\n",
              "      <td>Waiting to Exhale (1995)</td>\n",
              "      <td>Comedy|Drama|Romance</td>\n",
              "    </tr>\n",
              "    <tr>\n",
              "      <th>4</th>\n",
              "      <td>5</td>\n",
              "      <td>Father of the Bride Part II (1995)</td>\n",
              "      <td>Comedy</td>\n",
              "    </tr>\n",
              "    <tr>\n",
              "      <th>...</th>\n",
              "      <td>...</td>\n",
              "      <td>...</td>\n",
              "      <td>...</td>\n",
              "    </tr>\n",
              "    <tr>\n",
              "      <th>9737</th>\n",
              "      <td>193581</td>\n",
              "      <td>Black Butler: Book of the Atlantic (2017)</td>\n",
              "      <td>Action|Animation|Comedy|Fantasy</td>\n",
              "    </tr>\n",
              "    <tr>\n",
              "      <th>9738</th>\n",
              "      <td>193583</td>\n",
              "      <td>No Game No Life: Zero (2017)</td>\n",
              "      <td>Animation|Comedy|Fantasy</td>\n",
              "    </tr>\n",
              "    <tr>\n",
              "      <th>9739</th>\n",
              "      <td>193585</td>\n",
              "      <td>Flint (2017)</td>\n",
              "      <td>Drama</td>\n",
              "    </tr>\n",
              "    <tr>\n",
              "      <th>9740</th>\n",
              "      <td>193587</td>\n",
              "      <td>Bungo Stray Dogs: Dead Apple (2018)</td>\n",
              "      <td>Action|Animation</td>\n",
              "    </tr>\n",
              "    <tr>\n",
              "      <th>9741</th>\n",
              "      <td>193609</td>\n",
              "      <td>Andrew Dice Clay: Dice Rules (1991)</td>\n",
              "      <td>Comedy</td>\n",
              "    </tr>\n",
              "  </tbody>\n",
              "</table>\n",
              "<p>9742 rows × 3 columns</p>\n",
              "</div>"
            ],
            "text/plain": [
              "      movieId  ...                                       genres\n",
              "0           1  ...  Adventure|Animation|Children|Comedy|Fantasy\n",
              "1           2  ...                   Adventure|Children|Fantasy\n",
              "2           3  ...                               Comedy|Romance\n",
              "3           4  ...                         Comedy|Drama|Romance\n",
              "4           5  ...                                       Comedy\n",
              "...       ...  ...                                          ...\n",
              "9737   193581  ...              Action|Animation|Comedy|Fantasy\n",
              "9738   193583  ...                     Animation|Comedy|Fantasy\n",
              "9739   193585  ...                                        Drama\n",
              "9740   193587  ...                             Action|Animation\n",
              "9741   193609  ...                                       Comedy\n",
              "\n",
              "[9742 rows x 3 columns]"
            ]
          },
          "metadata": {
            "tags": []
          },
          "execution_count": 16
        }
      ]
    },
    {
      "cell_type": "code",
      "metadata": {
        "id": "QnIQfGAQ8Koa",
        "colab_type": "code",
        "colab": {}
      },
      "source": [
        "# loading in spark dataframe\n",
        "ratings_sdf = spark.read.format('csv').options(header='true', inferSchema='true') \\\n",
        "    .load('ml-latest-small/ratings.csv')"
      ],
      "execution_count": 0,
      "outputs": []
    },
    {
      "cell_type": "code",
      "metadata": {
        "id": "HwYyAZaP8Q8i",
        "colab_type": "code",
        "colab": {
          "base_uri": "https://localhost:8080/",
          "height": 289
        },
        "outputId": "3cde457e-7cb3-47ef-e652-8187031170ef"
      },
      "source": [
        "ratings_sdf.show(10)"
      ],
      "execution_count": 18,
      "outputs": [
        {
          "output_type": "stream",
          "text": [
            "+------+-------+------+---------+\n",
            "|userId|movieId|rating|timestamp|\n",
            "+------+-------+------+---------+\n",
            "|     1|      1|   4.0|964982703|\n",
            "|     1|      3|   4.0|964981247|\n",
            "|     1|      6|   4.0|964982224|\n",
            "|     1|     47|   5.0|964983815|\n",
            "|     1|     50|   5.0|964982931|\n",
            "|     1|     70|   3.0|964982400|\n",
            "|     1|    101|   5.0|964980868|\n",
            "|     1|    110|   4.0|964982176|\n",
            "|     1|    151|   5.0|964984041|\n",
            "|     1|    157|   5.0|964984100|\n",
            "+------+-------+------+---------+\n",
            "only showing top 10 rows\n",
            "\n"
          ],
          "name": "stdout"
        }
      ]
    },
    {
      "cell_type": "code",
      "metadata": {
        "id": "jwCsm0BR9vEA",
        "colab_type": "code",
        "colab": {}
      },
      "source": [
        "# loading libraries to improve ou Recommendation\n",
        "from pyspark.ml.evaluation import RegressionEvaluator\n",
        "from pyspark.ml.recommendation import ALS\n",
        "from pyspark.sql import Row"
      ],
      "execution_count": 0,
      "outputs": []
    },
    {
      "cell_type": "code",
      "metadata": {
        "id": "SiE1wKTG90n9",
        "colab_type": "code",
        "colab": {}
      },
      "source": [
        "# creating traning and test datasets\n",
        "(training, test) = ratings_sdf.randomSplit([0.8, 0.2])"
      ],
      "execution_count": 0,
      "outputs": []
    },
    {
      "cell_type": "code",
      "metadata": {
        "id": "zSf8DcCF92j4",
        "colab_type": "code",
        "colab": {}
      },
      "source": [
        "# Build the recommendation model using ALS on the training data\n",
        "# Note we set cold start strategy to 'drop' to ensure we don't get NaN evaluation metrics\n",
        "als = ALS(maxIter=5, regParam=0.01, userCol=\"userId\", itemCol=\"movieId\", ratingCol=\"rating\",\n",
        "          coldStartStrategy=\"drop\")\n",
        "model = als.fit(training)"
      ],
      "execution_count": 0,
      "outputs": []
    },
    {
      "cell_type": "code",
      "metadata": {
        "id": "UUE4O9Yr945u",
        "colab_type": "code",
        "colab": {
          "base_uri": "https://localhost:8080/",
          "height": 34
        },
        "outputId": "9a7f909c-3fb9-46aa-98ee-3c802fb7b06d"
      },
      "source": [
        "# Evaluate the model by computing the RMSE on the test data\n",
        "predictions = model.transform(test)\n",
        "evaluator = RegressionEvaluator(metricName=\"rmse\", labelCol=\"rating\",\n",
        "                                predictionCol=\"prediction\")\n",
        "rmse = evaluator.evaluate(predictions)\n",
        "print(\"Root-mean-square error = \" + str(rmse))"
      ],
      "execution_count": 22,
      "outputs": [
        {
          "output_type": "stream",
          "text": [
            "Root-mean-square error = 1.0832568042658028\n"
          ],
          "name": "stdout"
        }
      ]
    },
    {
      "cell_type": "code",
      "metadata": {
        "id": "vNInGwbI9-7m",
        "colab_type": "code",
        "colab": {
          "base_uri": "https://localhost:8080/",
          "height": 122
        },
        "outputId": "ae9ea452-4539-4f72-f99c-3e77e0dfe121"
      },
      "source": [
        "# Generate top 10 movie recommendations for each user\n",
        "userRecs = model.recommendForAllUsers(10)\n",
        "userRecs.head(5)"
      ],
      "execution_count": 23,
      "outputs": [
        {
          "output_type": "execute_result",
          "data": {
            "text/plain": [
              "[Row(userId=471, recommendations=[Row(movieId=52435, rating=9.165359497070312), Row(movieId=2469, rating=7.743799686431885), Row(movieId=3270, rating=7.608659267425537), Row(movieId=8638, rating=7.497716903686523), Row(movieId=3030, rating=7.465417385101318), Row(movieId=89753, rating=7.294299125671387), Row(movieId=8042, rating=7.223275184631348), Row(movieId=2730, rating=7.12715482711792), Row(movieId=158783, rating=7.1158857345581055), Row(movieId=1635, rating=7.028524875640869)]),\n",
              " Row(userId=463, recommendations=[Row(movieId=97304, rating=7.538291931152344), Row(movieId=2986, rating=7.250640392303467), Row(movieId=166534, rating=7.196099281311035), Row(movieId=556, rating=6.839203357696533), Row(movieId=143859, rating=6.833131790161133), Row(movieId=5013, rating=6.790536403656006), Row(movieId=112623, rating=6.7399187088012695), Row(movieId=55276, rating=6.692137718200684), Row(movieId=86644, rating=6.629750728607178), Row(movieId=3438, rating=6.626420974731445)]),\n",
              " Row(userId=496, recommendations=[Row(movieId=3477, rating=5.523568630218506), Row(movieId=177593, rating=5.225446701049805), Row(movieId=898, rating=5.215515613555908), Row(movieId=2810, rating=5.184590816497803), Row(movieId=8973, rating=5.167753219604492), Row(movieId=5690, rating=5.119349956512451), Row(movieId=49932, rating=5.110259056091309), Row(movieId=58301, rating=5.076418876647949), Row(movieId=2202, rating=4.975639820098877), Row(movieId=3549, rating=4.975399017333984)]),\n",
              " Row(userId=148, recommendations=[Row(movieId=2693, rating=6.711004734039307), Row(movieId=619, rating=6.296098709106445), Row(movieId=89904, rating=6.144366264343262), Row(movieId=59258, rating=6.1315598487854), Row(movieId=68793, rating=6.09438943862915), Row(movieId=129354, rating=6.058717727661133), Row(movieId=80860, rating=6.040949821472168), Row(movieId=133419, rating=6.0279388427734375), Row(movieId=137337, rating=5.922212600708008), Row(movieId=379, rating=5.9162917137146)]),\n",
              " Row(userId=540, recommendations=[Row(movieId=6187, rating=6.482967376708984), Row(movieId=3819, rating=6.388479232788086), Row(movieId=3019, rating=6.298205375671387), Row(movieId=89904, rating=6.185089588165283), Row(movieId=1339, rating=6.165989875793457), Row(movieId=1701, rating=6.160107612609863), Row(movieId=663, rating=6.10904598236084), Row(movieId=150548, rating=6.078408718109131), Row(movieId=27803, rating=6.069954872131348), Row(movieId=5292, rating=6.053140640258789)])]"
            ]
          },
          "metadata": {
            "tags": []
          },
          "execution_count": 23
        }
      ]
    },
    {
      "cell_type": "code",
      "metadata": {
        "id": "3S2kRxU2-FEg",
        "colab_type": "code",
        "colab": {
          "base_uri": "https://localhost:8080/",
          "height": 289
        },
        "outputId": "72547659-a7f1-46df-9cae-8c70a2d85f7a"
      },
      "source": [
        "# Generate top 10 user recommendations for each movie\n",
        "movieRecs = model.recommendForAllItems(10)\n",
        "movieRecs.show(10)"
      ],
      "execution_count": 24,
      "outputs": [
        {
          "output_type": "stream",
          "text": [
            "+-------+--------------------+\n",
            "|movieId|     recommendations|\n",
            "+-------+--------------------+\n",
            "|   1580|[[399, 5.531799],...|\n",
            "|   4900|[[461, 13.276947]...|\n",
            "|   6620|[[485, 7.9614954]...|\n",
            "|   7340|[[335, 5.3420205]...|\n",
            "|  32460|[[598, 9.589021],...|\n",
            "|  54190|[[231, 9.348149],...|\n",
            "|    471|[[296, 8.233962],...|\n",
            "|   1591|[[231, 7.3192863]...|\n",
            "| 140541|[[289, 6.9959207]...|\n",
            "|   1342|[[147, 7.860112],...|\n",
            "+-------+--------------------+\n",
            "only showing top 10 rows\n",
            "\n"
          ],
          "name": "stdout"
        }
      ]
    },
    {
      "cell_type": "code",
      "metadata": {
        "id": "wWc1tHGH-Q09",
        "colab_type": "code",
        "colab": {
          "base_uri": "https://localhost:8080/",
          "height": 88
        },
        "outputId": "1b9f2f11-3929-4888-c20f-b13e1e1ab081"
      },
      "source": [
        "# Generate top 10 movie recommendations for a specified set of users\n",
        "users = ratings_sdf.select(als.getUserCol()).distinct().limit(3)\n",
        "userSubsetRecs = model.recommendForUserSubset(users, 10)\n",
        "userSubsetRecs.head(10)"
      ],
      "execution_count": 25,
      "outputs": [
        {
          "output_type": "execute_result",
          "data": {
            "text/plain": [
              "[Row(userId=471, recommendations=[Row(movieId=52435, rating=9.165359497070312), Row(movieId=2469, rating=7.743799686431885), Row(movieId=3270, rating=7.608659267425537), Row(movieId=8638, rating=7.497716903686523), Row(movieId=3030, rating=7.465417385101318), Row(movieId=89753, rating=7.294299125671387), Row(movieId=8042, rating=7.223275184631348), Row(movieId=2730, rating=7.12715482711792), Row(movieId=158783, rating=7.1158857345581055), Row(movieId=1635, rating=7.028524875640869)]),\n",
              " Row(userId=463, recommendations=[Row(movieId=97304, rating=7.538291931152344), Row(movieId=2986, rating=7.250640392303467), Row(movieId=166534, rating=7.196099281311035), Row(movieId=556, rating=6.839203357696533), Row(movieId=143859, rating=6.833131790161133), Row(movieId=5013, rating=6.790536403656006), Row(movieId=112623, rating=6.7399187088012695), Row(movieId=55276, rating=6.692137718200684), Row(movieId=86644, rating=6.629750728607178), Row(movieId=3438, rating=6.626420974731445)]),\n",
              " Row(userId=148, recommendations=[Row(movieId=2693, rating=6.711004734039307), Row(movieId=619, rating=6.296098709106445), Row(movieId=89904, rating=6.144366264343262), Row(movieId=59258, rating=6.1315598487854), Row(movieId=68793, rating=6.09438943862915), Row(movieId=129354, rating=6.058717727661133), Row(movieId=80860, rating=6.040949821472168), Row(movieId=133419, rating=6.0279388427734375), Row(movieId=137337, rating=5.922212600708008), Row(movieId=379, rating=5.9162917137146)])]"
            ]
          },
          "metadata": {
            "tags": []
          },
          "execution_count": 25
        }
      ]
    },
    {
      "cell_type": "code",
      "metadata": {
        "id": "PZTfV3Np-VQP",
        "colab_type": "code",
        "colab": {
          "base_uri": "https://localhost:8080/",
          "height": 54
        },
        "outputId": "86c297fb-5d3c-4cde-b8cc-7f9a8c0b4665"
      },
      "source": [
        "# Generate top 10 user recommendations for a specified set of movies\n",
        "movies = ratings_sdf.select(als.getItemCol()).distinct().limit(3)\n",
        "movieSubSetRecs = model.recommendForItemSubset(movies, 10)\n",
        "movieSubSetRecs.head()"
      ],
      "execution_count": 26,
      "outputs": [
        {
          "output_type": "execute_result",
          "data": {
            "text/plain": [
              "Row(movieId=1580, recommendations=[Row(userId=399, rating=5.531798839569092), Row(userId=231, rating=5.192637920379639), Row(userId=485, rating=5.139752388000488), Row(userId=335, rating=5.000114440917969), Row(userId=60, rating=4.966618537902832), Row(userId=154, rating=4.952124118804932), Row(userId=544, rating=4.929132461547852), Row(userId=543, rating=4.922102928161621), Row(userId=147, rating=4.858897686004639), Row(userId=93, rating=4.800593852996826)])"
            ]
          },
          "metadata": {
            "tags": []
          },
          "execution_count": 26
        }
      ]
    }
  ]
}